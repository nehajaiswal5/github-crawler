{
 "cells": [
  {
   "cell_type": "markdown",
   "metadata": {},
   "source": [
    "# Milestone 1\n",
    "\n",
    "    Given the full name of a target github repository (e.g. “kubernetes/kubernetes” which refers to https://github.com/kubernetes/kubernetes/), fetch all of that project’s contributors, and then fetch each contributor’s repositories (i.e. the repos that they have forked). Count how many times each repository appears across all contributors. Then print to stdout a summary of the top 10 repositories by count."
   ]
  },
  {
   "cell_type": "code",
   "execution_count": 111,
   "metadata": {
    "collapsed": true
   },
   "outputs": [],
   "source": [
    "import csv\n",
    "import os\n",
    "import pandas as pd\n",
    "import numpy as np\n",
    "import sys\n",
    "%matplotlib inline\n",
    "import seaborn as sns\n",
    "import unittest"
   ]
  },
  {
   "cell_type": "markdown",
   "metadata": {},
   "source": [
    "### Read the csv "
   ]
  },
  {
   "cell_type": "code",
   "execution_count": 89,
   "metadata": {
    "collapsed": true
   },
   "outputs": [],
   "source": [
    "if os.path.exists('data.csv'):\n",
    "    df=pd.read_csv('data.csv')"
   ]
  },
  {
   "cell_type": "code",
   "execution_count": 90,
   "metadata": {},
   "outputs": [
    {
     "data": {
      "text/html": [
       "<div>\n",
       "<style>\n",
       "    .dataframe thead tr:only-child th {\n",
       "        text-align: right;\n",
       "    }\n",
       "\n",
       "    .dataframe thead th {\n",
       "        text-align: left;\n",
       "    }\n",
       "\n",
       "    .dataframe tbody tr th {\n",
       "        vertical-align: top;\n",
       "    }\n",
       "</style>\n",
       "<table border=\"1\" class=\"dataframe\">\n",
       "  <thead>\n",
       "    <tr style=\"text-align: right;\">\n",
       "      <th></th>\n",
       "      <th>parent_org</th>\n",
       "      <th>parent_repo</th>\n",
       "      <th>contributor</th>\n",
       "      <th>repo</th>\n",
       "    </tr>\n",
       "  </thead>\n",
       "  <tbody>\n",
       "    <tr>\n",
       "      <th>0</th>\n",
       "      <td>adamnemecek</td>\n",
       "      <td>zipline</td>\n",
       "      <td>adamnemecek</td>\n",
       "      <td>2etime-Graphics</td>\n",
       "    </tr>\n",
       "    <tr>\n",
       "      <th>1</th>\n",
       "      <td>adamnemecek</td>\n",
       "      <td>zipline</td>\n",
       "      <td>adamnemecek</td>\n",
       "      <td>active_admin</td>\n",
       "    </tr>\n",
       "    <tr>\n",
       "      <th>2</th>\n",
       "      <td>adamnemecek</td>\n",
       "      <td>zipline</td>\n",
       "      <td>adamnemecek</td>\n",
       "      <td>adamnemecek.github.com</td>\n",
       "    </tr>\n",
       "    <tr>\n",
       "      <th>3</th>\n",
       "      <td>adamnemecek</td>\n",
       "      <td>zipline</td>\n",
       "      <td>adamnemecek</td>\n",
       "      <td>adamnemecek.github.io</td>\n",
       "    </tr>\n",
       "    <tr>\n",
       "      <th>4</th>\n",
       "      <td>adamnemecek</td>\n",
       "      <td>zipline</td>\n",
       "      <td>adamnemecek</td>\n",
       "      <td>aecombiner</td>\n",
       "    </tr>\n",
       "  </tbody>\n",
       "</table>\n",
       "</div>"
      ],
      "text/plain": [
       "    parent_org parent_repo  contributor                    repo\n",
       "0  adamnemecek     zipline  adamnemecek         2etime-Graphics\n",
       "1  adamnemecek     zipline  adamnemecek            active_admin\n",
       "2  adamnemecek     zipline  adamnemecek  adamnemecek.github.com\n",
       "3  adamnemecek     zipline  adamnemecek   adamnemecek.github.io\n",
       "4  adamnemecek     zipline  adamnemecek              aecombiner"
      ]
     },
     "execution_count": 90,
     "metadata": {},
     "output_type": "execute_result"
    }
   ],
   "source": [
    "df.head()"
   ]
  },
  {
   "cell_type": "markdown",
   "metadata": {},
   "source": [
    "#### Group by repos by their number of occurances "
   ]
  },
  {
   "cell_type": "code",
   "execution_count": 92,
   "metadata": {},
   "outputs": [
    {
     "data": {
      "text/html": [
       "<div>\n",
       "<style>\n",
       "    .dataframe thead tr:only-child th {\n",
       "        text-align: right;\n",
       "    }\n",
       "\n",
       "    .dataframe thead th {\n",
       "        text-align: left;\n",
       "    }\n",
       "\n",
       "    .dataframe tbody tr th {\n",
       "        vertical-align: top;\n",
       "    }\n",
       "</style>\n",
       "<table border=\"1\" class=\"dataframe\">\n",
       "  <thead>\n",
       "    <tr style=\"text-align: right;\">\n",
       "      <th></th>\n",
       "      <th>repo</th>\n",
       "      <th>repo_count</th>\n",
       "    </tr>\n",
       "  </thead>\n",
       "  <tbody>\n",
       "    <tr>\n",
       "      <th>0</th>\n",
       "      <td>.dotfiles</td>\n",
       "      <td>3</td>\n",
       "    </tr>\n",
       "    <tr>\n",
       "      <th>1</th>\n",
       "      <td>.emacs.d</td>\n",
       "      <td>4</td>\n",
       "    </tr>\n",
       "    <tr>\n",
       "      <th>2</th>\n",
       "      <td>.unixrc</td>\n",
       "      <td>1</td>\n",
       "    </tr>\n",
       "    <tr>\n",
       "      <th>3</th>\n",
       "      <td>.vim</td>\n",
       "      <td>5</td>\n",
       "    </tr>\n",
       "    <tr>\n",
       "      <th>4</th>\n",
       "      <td>01-14-16-Presentation-Slides-SpriteKit-Tips</td>\n",
       "      <td>1</td>\n",
       "    </tr>\n",
       "  </tbody>\n",
       "</table>\n",
       "</div>"
      ],
      "text/plain": [
       "                                          repo  repo_count\n",
       "0                                    .dotfiles           3\n",
       "1                                     .emacs.d           4\n",
       "2                                      .unixrc           1\n",
       "3                                         .vim           5\n",
       "4  01-14-16-Presentation-Slides-SpriteKit-Tips           1"
      ]
     },
     "execution_count": 92,
     "metadata": {},
     "output_type": "execute_result"
    }
   ],
   "source": [
    "repo_results = df.groupby(['repo']).size().reset_index(name='repo_count')\n",
    "repo_results.head()"
   ]
  },
  {
   "cell_type": "markdown",
   "metadata": {},
   "source": [
    "### Sort the result"
   ]
  },
  {
   "cell_type": "code",
   "execution_count": 93,
   "metadata": {
    "collapsed": true
   },
   "outputs": [],
   "source": [
    "# store the result as repositories_count.csv in the format of <index, repo , count>"
   ]
  },
  {
   "cell_type": "code",
   "execution_count": 86,
   "metadata": {
    "collapsed": true
   },
   "outputs": [],
   "source": [
    "sorted_repo_results=repo_results.sort_values(by='repo_count', ascending=False)\n",
    "sorted_repo_results.to_csv('repositories_count.csv')"
   ]
  },
  {
   "cell_type": "code",
   "execution_count": 95,
   "metadata": {},
   "outputs": [
    {
     "data": {
      "text/html": [
       "<div>\n",
       "<style>\n",
       "    .dataframe thead tr:only-child th {\n",
       "        text-align: right;\n",
       "    }\n",
       "\n",
       "    .dataframe thead th {\n",
       "        text-align: left;\n",
       "    }\n",
       "\n",
       "    .dataframe tbody tr th {\n",
       "        vertical-align: top;\n",
       "    }\n",
       "</style>\n",
       "<table border=\"1\" class=\"dataframe\">\n",
       "  <thead>\n",
       "    <tr style=\"text-align: right;\">\n",
       "      <th></th>\n",
       "      <th>repo</th>\n",
       "      <th>repo_count</th>\n",
       "    </tr>\n",
       "  </thead>\n",
       "  <tbody>\n",
       "    <tr>\n",
       "      <th>7739</th>\n",
       "      <td>kubernetes</td>\n",
       "      <td>379</td>\n",
       "    </tr>\n",
       "    <tr>\n",
       "      <th>7866</th>\n",
       "      <td>kubernetes.github.io</td>\n",
       "      <td>168</td>\n",
       "    </tr>\n",
       "    <tr>\n",
       "      <th>11885</th>\n",
       "      <td>test-infra</td>\n",
       "      <td>155</td>\n",
       "    </tr>\n",
       "    <tr>\n",
       "      <th>3911</th>\n",
       "      <td>contrib</td>\n",
       "      <td>118</td>\n",
       "    </tr>\n",
       "    <tr>\n",
       "      <th>4495</th>\n",
       "      <td>docker</td>\n",
       "      <td>99</td>\n",
       "    </tr>\n",
       "    <tr>\n",
       "      <th>9515</th>\n",
       "      <td>origin</td>\n",
       "      <td>81</td>\n",
       "    </tr>\n",
       "    <tr>\n",
       "      <th>6524</th>\n",
       "      <td>heapster</td>\n",
       "      <td>71</td>\n",
       "    </tr>\n",
       "    <tr>\n",
       "      <th>3198</th>\n",
       "      <td>cadvisor</td>\n",
       "      <td>70</td>\n",
       "    </tr>\n",
       "    <tr>\n",
       "      <th>5258</th>\n",
       "      <td>features</td>\n",
       "      <td>67</td>\n",
       "    </tr>\n",
       "    <tr>\n",
       "      <th>10526</th>\n",
       "      <td>release</td>\n",
       "      <td>65</td>\n",
       "    </tr>\n",
       "  </tbody>\n",
       "</table>\n",
       "</div>"
      ],
      "text/plain": [
       "                       repo  repo_count\n",
       "7739             kubernetes         379\n",
       "7866   kubernetes.github.io         168\n",
       "11885            test-infra         155\n",
       "3911                contrib         118\n",
       "4495                 docker          99\n",
       "9515                 origin          81\n",
       "6524               heapster          71\n",
       "3198               cadvisor          70\n",
       "5258               features          67\n",
       "10526               release          65"
      ]
     },
     "execution_count": 95,
     "metadata": {},
     "output_type": "execute_result"
    }
   ],
   "source": [
    "def get_top_n(n):\n",
    "    '''\n",
    "     get the top n repos according to their count. \n",
    "     @input n: integer number\n",
    "     @return dataframe: containing top 10 values\n",
    "    '''\n",
    "    df_top_n=repo_results.sort_values(by='repo_count', ascending=False)[:n]\n",
    "    \n",
    "    return df_top_n\n",
    "    \n",
    "get_top_n(10)"
   ]
  },
  {
   "cell_type": "code",
   "execution_count": 96,
   "metadata": {},
   "outputs": [
    {
     "data": {
      "text/plain": [
       "[<matplotlib.text.Text at 0x1237fdb50>,\n",
       " <matplotlib.text.Text at 0x123806650>,\n",
       " <matplotlib.text.Text at 0x123828ed0>,\n",
       " <matplotlib.text.Text at 0x123833650>,\n",
       " <matplotlib.text.Text at 0x123833d90>,\n",
       " <matplotlib.text.Text at 0x123840510>,\n",
       " <matplotlib.text.Text at 0x123840c50>,\n",
       " <matplotlib.text.Text at 0x1238493d0>,\n",
       " <matplotlib.text.Text at 0x123849b10>,\n",
       " <matplotlib.text.Text at 0x12488d290>]"
      ]
     },
     "execution_count": 96,
     "metadata": {},
     "output_type": "execute_result"
    },
    {
     "data": {
      "image/png": "[encoded data removed]",
      "text/plain": [
       "<matplotlib.figure.Figure at 0x123dac110>"
      ]
     },
     "metadata": {},
     "output_type": "display_data"
    }
   ],
   "source": [
    "##  Plot top n repos with their count\n",
    "top_repos=get_top_n(10)\n",
    "plt=sns.barplot(x=\"repo\", y=\"repo_count\", data=top_repos)\n",
    "plt.set_xticklabels(labels = top_repos[\"repo\"],rotation=90)"
   ]
  },
  {
   "cell_type": "markdown",
   "metadata": {},
   "source": [
    "## Additional Analysis"
   ]
  },
  {
   "cell_type": "markdown",
   "metadata": {},
   "source": [
    "### Parent Organisation & Total Repos Count of their contributors"
   ]
  },
  {
   "cell_type": "code",
   "execution_count": 97,
   "metadata": {},
   "outputs": [
    {
     "data": {
      "text/html": [
       "<div>\n",
       "<style>\n",
       "    .dataframe thead tr:only-child th {\n",
       "        text-align: right;\n",
       "    }\n",
       "\n",
       "    .dataframe thead th {\n",
       "        text-align: left;\n",
       "    }\n",
       "\n",
       "    .dataframe tbody tr th {\n",
       "        vertical-align: top;\n",
       "    }\n",
       "</style>\n",
       "<table border=\"1\" class=\"dataframe\">\n",
       "  <thead>\n",
       "    <tr style=\"text-align: right;\">\n",
       "      <th></th>\n",
       "      <th>parent_org</th>\n",
       "      <th>repo_count</th>\n",
       "    </tr>\n",
       "  </thead>\n",
       "  <tbody>\n",
       "    <tr>\n",
       "      <th>0</th>\n",
       "      <td>AudioKit</td>\n",
       "      <td>1962</td>\n",
       "    </tr>\n",
       "    <tr>\n",
       "      <th>1</th>\n",
       "      <td>adamnemecek</td>\n",
       "      <td>1386</td>\n",
       "    </tr>\n",
       "    <tr>\n",
       "      <th>2</th>\n",
       "      <td>kubernetes</td>\n",
       "      <td>16454</td>\n",
       "    </tr>\n",
       "  </tbody>\n",
       "</table>\n",
       "</div>"
      ],
      "text/plain": [
       "    parent_org  repo_count\n",
       "0     AudioKit        1962\n",
       "1  adamnemecek        1386\n",
       "2   kubernetes       16454"
      ]
     },
     "execution_count": 97,
     "metadata": {},
     "output_type": "execute_result"
    }
   ],
   "source": [
    "parent_repo_results = df.groupby(['parent_org']).size().reset_index(name='repo_count')\n",
    "parent_repo_results.head()"
   ]
  },
  {
   "cell_type": "code",
   "execution_count": 98,
   "metadata": {},
   "outputs": [
    {
     "data": {
      "text/plain": [
       "<matplotlib.axes._subplots.AxesSubplot at 0x1237fd0d0>"
      ]
     },
     "execution_count": 98,
     "metadata": {},
     "output_type": "execute_result"
    },
    {
     "data": {
      "image/png": "[encoded data removed]",
      "text/plain": [
       "<matplotlib.figure.Figure at 0x123c92bd0>"
      ]
     },
     "metadata": {},
     "output_type": "display_data"
    }
   ],
   "source": [
    "sns.barplot(x=\"parent_org\", y=\"repo_count\", data=parent_repo_results)"
   ]
  },
  {
   "cell_type": "markdown",
   "metadata": {},
   "source": [
    "###  Top Contributors based on their repos count"
   ]
  },
  {
   "cell_type": "code",
   "execution_count": 99,
   "metadata": {},
   "outputs": [
    {
     "data": {
      "text/html": [
       "<div>\n",
       "<style>\n",
       "    .dataframe thead tr:only-child th {\n",
       "        text-align: right;\n",
       "    }\n",
       "\n",
       "    .dataframe thead th {\n",
       "        text-align: left;\n",
       "    }\n",
       "\n",
       "    .dataframe tbody tr th {\n",
       "        vertical-align: top;\n",
       "    }\n",
       "</style>\n",
       "<table border=\"1\" class=\"dataframe\">\n",
       "  <thead>\n",
       "    <tr style=\"text-align: right;\">\n",
       "      <th></th>\n",
       "      <th>contributor</th>\n",
       "      <th>contributor_repo_count</th>\n",
       "    </tr>\n",
       "  </thead>\n",
       "  <tbody>\n",
       "    <tr>\n",
       "      <th>0</th>\n",
       "      <td>249043822</td>\n",
       "      <td>5</td>\n",
       "    </tr>\n",
       "    <tr>\n",
       "      <th>1</th>\n",
       "      <td>AdrianBinDC</td>\n",
       "      <td>38</td>\n",
       "    </tr>\n",
       "    <tr>\n",
       "      <th>2</th>\n",
       "      <td>AnanyaKumar</td>\n",
       "      <td>15</td>\n",
       "    </tr>\n",
       "    <tr>\n",
       "      <th>3</th>\n",
       "      <td>AntonioMeireles</td>\n",
       "      <td>34</td>\n",
       "    </tr>\n",
       "    <tr>\n",
       "      <th>4</th>\n",
       "      <td>ArtfulCoder</td>\n",
       "      <td>6</td>\n",
       "    </tr>\n",
       "  </tbody>\n",
       "</table>\n",
       "</div>"
      ],
      "text/plain": [
       "       contributor  contributor_repo_count\n",
       "0        249043822                       5\n",
       "1      AdrianBinDC                      38\n",
       "2      AnanyaKumar                      15\n",
       "3  AntonioMeireles                      34\n",
       "4      ArtfulCoder                       6"
      ]
     },
     "execution_count": 99,
     "metadata": {},
     "output_type": "execute_result"
    }
   ],
   "source": [
    "contributors_results = df.groupby(['contributor']).size().reset_index(name='contributor_repo_count')\n",
    "contributors_results.head()"
   ]
  },
  {
   "cell_type": "code",
   "execution_count": 79,
   "metadata": {
    "collapsed": true
   },
   "outputs": [],
   "source": [
    "contributors_results_data=contributors_results.sort_values(by='contributor_repo_count', ascending=False)[:25]"
   ]
  },
  {
   "cell_type": "code",
   "execution_count": 100,
   "metadata": {},
   "outputs": [
    {
     "data": {
      "text/plain": [
       "[<matplotlib.text.Text at 0x12488f110>,\n",
       " <matplotlib.text.Text at 0x124a12dd0>,\n",
       " <matplotlib.text.Text at 0x124bdd450>,\n",
       " <matplotlib.text.Text at 0x124bddb90>,\n",
       " <matplotlib.text.Text at 0x124be8310>,\n",
       " <matplotlib.text.Text at 0x124be8a50>,\n",
       " <matplotlib.text.Text at 0x124bf41d0>,\n",
       " <matplotlib.text.Text at 0x124bf4910>,\n",
       " <matplotlib.text.Text at 0x124bfe090>,\n",
       " <matplotlib.text.Text at 0x124bfe7d0>,\n",
       " <matplotlib.text.Text at 0x124bfef10>,\n",
       " <matplotlib.text.Text at 0x124c0a690>,\n",
       " <matplotlib.text.Text at 0x124c0add0>,\n",
       " <matplotlib.text.Text at 0x124c14550>,\n",
       " <matplotlib.text.Text at 0x124c14c90>,\n",
       " <matplotlib.text.Text at 0x124c1f410>,\n",
       " <matplotlib.text.Text at 0x124c1fb50>,\n",
       " <matplotlib.text.Text at 0x124c2a2d0>,\n",
       " <matplotlib.text.Text at 0x124c2aa10>,\n",
       " <matplotlib.text.Text at 0x124c36190>,\n",
       " <matplotlib.text.Text at 0x124c368d0>,\n",
       " <matplotlib.text.Text at 0x124c40050>,\n",
       " <matplotlib.text.Text at 0x124c40790>,\n",
       " <matplotlib.text.Text at 0x124c40ed0>,\n",
       " <matplotlib.text.Text at 0x124c4a650>]"
      ]
     },
     "execution_count": 100,
     "metadata": {},
     "output_type": "execute_result"
    },
    {
     "data": {
      "image/png": "[encoded data removed]",
      "text/plain": [
       "<matplotlib.figure.Figure at 0x1237f91d0>"
      ]
     },
     "metadata": {},
     "output_type": "display_data"
    }
   ],
   "source": [
    "plt1=sns.barplot(x=\"contributor\", y=\"contributor_repo_count\", data=contributors_results_data)\n",
    "plt1.set_xticklabels(labels = contributors_results[\"contributor\"],rotation=90)"
   ]
  },
  {
   "cell_type": "markdown",
   "metadata": {},
   "source": [
    "#### Get more information about the contributors on adhoc basis"
   ]
  },
  {
   "cell_type": "code",
   "execution_count": 107,
   "metadata": {},
   "outputs": [],
   "source": [
    "\n",
    "def get_count_for_given_repo(repo):\n",
    "    '''to get count of a given repo\n",
    "    @input repo name: string\n",
    "    @return value: integer\n",
    "    \n",
    "    '''\n",
    "    return repo_results.loc[repo_results['repo'] == repo]['repo_count']\n",
    "\n",
    "\n",
    "\n",
    "def get_list_of_repos_for_given_contributor(contributor):\n",
    "    '''to get list of repos for a given contributor\n",
    "    @input contributor: string\n",
    "    @return list of repos\n",
    "    '''\n",
    "    return df.loc[df['contributor']== contributor]['repo']\n",
    "\n",
    "\n",
    "\n",
    "contributor_repo_dict={}\n",
    "def get_repowise_count_for_given_contributor(contributor):\n",
    "    '''to get count of all repos for a given contributor\n",
    "    @input contributor: string\n",
    "    @return dictionary of repos & their count \n",
    "    '''\n",
    "    repos_list = get_list_of_repos_for_given_contributor(contributor)\n",
    "    for repo in repos_list:\n",
    "        contributor_repo_dict[repo]=repo_results.loc[repo_results['repo'] == repo]['repo_count'].values[0]\n",
    "    return contributor_repo_dict\n"
   ]
  },
  {
   "cell_type": "code",
   "execution_count": 108,
   "metadata": {},
   "outputs": [
    {
     "name": "stdout",
     "output_type": "stream",
     "text": [
      "1\n",
      "['aichallenge' 'apiserver' 'client-go' 'client-go-flat' 'contrib' 'docker'\n",
      " 'gengo' 'ginkgo' 'gofuzz' 'heapster' 'hub' 'k8s.io' 'kubernetes'\n",
      " 'kubernetes.github.io' 'test-infra']\n",
      "{'heapster': 71, 'aichallenge': 2, 'kubernetes': 379, 'gofuzz': 5, 'gengo': 28, 'apiserver': 26, 'ginkgo': 9, 'test-infra': 155, 'hub': 5, 'client-go': 62, 'k8s.io': 28, 'contrib': 118, 'client-go-flat': 1, 'kubernetes.github.io': 168, 'docker': 99}\n"
     ]
    }
   ],
   "source": [
    "print get_count_for_given_repo('zxcvbn-go').values[0]\n",
    "print get_list_of_repos_for_given_contributor('lavalamp').values\n",
    "print get_repowise_count_for_given_contributor('lavalamp')"
   ]
  },
  {
   "cell_type": "code",
   "execution_count": null,
   "metadata": {},
   "outputs": [],
   "source": []
  },
  {
   "cell_type": "markdown",
   "metadata": {},
   "source": [
    "## Tests"
   ]
  },
  {
   "cell_type": "code",
   "execution_count": 164,
   "metadata": {},
   "outputs": [
    {
     "name": "stderr",
     "output_type": "stream",
     "text": [
      ".......\n",
      "----------------------------------------------------------------------\n",
      "Ran 7 tests in 0.055s\n",
      "\n",
      "OK\n"
     ]
    }
   ],
   "source": [
    "class UnitTests(unittest.TestCase):\n",
    "\n",
    "    def test_no_of_parent_user(self):\n",
    "        self.assertEqual(len(set(df['parent_org'])),3)\n",
    "        \n",
    "    def test_no_of_parent_repo(self):\n",
    "        self.assertEqual(len(set(df['parent_repo'])),3)\n",
    "    \n",
    "    def test_get_count_for_given_repo(self):\n",
    "        self.assertEqual(get_count_for_given_repo('zxcvbn-go').values[0],1)\n",
    "        \n",
    "    def test_get_list_of_repos_for_given_contributor(self):\n",
    "        self.assertEqual(len(get_list_of_repos_for_given_contributor('lavalamp').values),15)\n",
    "    \n",
    "    def test_get_repowise_count_for_given_contributor(self):\n",
    "        self.assertEqual(get_repowise_count_for_given_contributor('lavalamp')['heapster'],71)\n",
    "        \n",
    "    def test_get_repowise_count_for_given_contributor(self):\n",
    "        self.assertEqual(get_repowise_count_for_given_contributor('lavalamp')['kubernetes.github.io'],168)\n",
    "    \n",
    "    def test_get_top_n(self):\n",
    "        self.assertEqual(len(get_top_n(5)['repo']),5)\n",
    "    \n",
    "    def test_get_top_n_data(self):\n",
    "        expected_records=['kubernetes','kubernetes.github.io','test-infra','contrib','docker']\n",
    "        records=get_top_n(5)['repo'].values\n",
    "        for rec,exp_rec in zip(records,expected_records):\n",
    "            self.assertEqual(rec,exp_rec)\n",
    "\n",
    "            \n",
    "            \n",
    "if __name__ == '__main__':\n",
    "    unittest.main(argv=['first-arg-is-ignored'], exit=False)"
   ]
  },
  {
   "cell_type": "markdown",
   "metadata": {},
   "source": [
    "## Extensions\n",
    "\n",
    "    1. Use hadoop map-reduce or spark job process the data, do basic counts and sort operations.\n",
    "    2. We can also use spark dataframes to do these operations. \n",
    "    3. Dataset can store timestamp wrt date & time of the pull, we can extend the analysis for time-series. \n",
    "    4. If data is saved in a table, we can read the table and do the analysis.\n",
    "    5. This data structure can be extended for storing other metadata too. \n",
    "    6. We can read data in json format too. "
   ]
  }
 ],
 "metadata": {
  "kernelspec": {
   "display_name": "Python [conda env:anaconda2]",
   "language": "python",
   "name": "conda-env-anaconda2-py"
  },
  "language_info": {
   "codemirror_mode": {
    "name": "ipython",
    "version": 2
   },
   "file_extension": ".py",
   "mimetype": "text/x-python",
   "name": "python",
   "nbconvert_exporter": "python",
   "pygments_lexer": "ipython2",
   "version": "2.7.13"
  }
 },
 "nbformat": 4,
 "nbformat_minor": 2
}
